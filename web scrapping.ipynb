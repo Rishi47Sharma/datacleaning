{
 "cells": [
  {
   "cell_type": "markdown",
   "id": "2a11f8e0",
   "metadata": {},
   "source": [
    "# web scrapping\n",
    "\n",
    "Web scraping is the process of automatically extracting data from websites. It involves retrieving the HTML code of a web page, parsing it, and extracting the desired information. Web scraping allows you to gather data from multiple web pages quickly and efficiently, without manually visiting each page and copying the information\n",
    "\n",
    "### requests\n",
    "send GET request to the product page URL using the requests library. If the response status code is 200 (indicating a successful request), we create a BeautifulSoup object to parse the HTML content.\n",
    "\n",
    "### bs4\n",
    "Beautiful Soup (often abbreviated as bs4) is a popular Python library used for web scraping purposes. It provides a convenient way to extract data from HTML and XML documents.\n",
    "\n",
    "Beautiful Soup helps you parse and navigate the HTML or XML content of a web page, making it easy to locate and extract specific elements or data. It provides a simple and intuitive interface for working with complex HTML structures, allowing you to find elements by their tag names, attributes, or CSS classes."
   ]
  },
  {
   "cell_type": "code",
   "execution_count": 14,
   "id": "0a140dfd",
   "metadata": {},
   "outputs": [],
   "source": [
    "import requests\n",
    "import bs4"
   ]
  },
  {
   "cell_type": "code",
   "execution_count": 16,
   "id": "fc7ca83f",
   "metadata": {},
   "outputs": [
    {
     "data": {
      "text/plain": [
       "<Response [200]>"
      ]
     },
     "execution_count": 16,
     "metadata": {},
     "output_type": "execute_result"
    }
   ],
   "source": [
    "request1= requests.get(\"https://www.flipkart.com/poco-c31-royal-blue-32-gb/product-reviews/itm9656ebd21e0b3?pid=MOBG73E7ZBHHQ3RB&lid=LSTMOBG73E7ZBHHQ3RBPQ3FU1&marketplace=FLIPKART\")\n",
    "request1"
   ]
  },
  {
   "cell_type": "code",
   "execution_count": 29,
   "id": "2cc677d4",
   "metadata": {},
   "outputs": [],
   "source": [
    "#request1.content"
   ]
  },
  {
   "cell_type": "code",
   "execution_count": 28,
   "id": "77f38b35",
   "metadata": {},
   "outputs": [],
   "source": [
    "soup= bs4.BeautifulSoup(request1.text)\n"
   ]
  },
  {
   "cell_type": "code",
   "execution_count": 27,
   "id": "61296c6b",
   "metadata": {},
   "outputs": [
    {
     "name": "stdout",
     "output_type": "stream",
     "text": [
      "Got today, still now smooth , I purchased 3GB variant ,Those who wants 3GB variant is good and smooth.Everything is good for normal and basic usage .If your want heavy task dont buy it.For regular and basic usage its superb 👍👍READ MORE \n",
      "\n",
      "You will  feel love ❤with it it in this price range you get little less sensor and feature but other than that this is absolute good flagship phone in budget segment and you can do amazing things with this phone other than gaming.READ MORE \n",
      "\n",
      "Good mobile for budget range... Camera is average but this is ok for this range and battery backup is good... Performance is good for normal users... Overall good smartphone at this price... Thanks to FlipkartREAD MORE \n",
      "\n",
      "Phone is best in its price range, +Poco is knows for its best mobile, good 👍 I like it.READ MORE \n",
      "\n",
      "Best phone under this price range If you buying it for camera then its not for you Else everything is fine and fair Performance is good Battery lasts 2 to 3 days on normal usage Camera is below average and balanced phone with fingerprint and face working nice,It's more than a week buying poco C31 . Honestly in my view I was little bit afraid of it's size , battery backup and display aspects but it just surprised me now that nowadays you can afford a good photo,Good mobile for budget range ......READ MORE \n",
      "\n",
      "Vry vry good quality and performance is too good awesome design / everything is too goodREAD MORE \n",
      "\n",
      "It's more than a week buying poco C31. Honestly in my view I was little bit afraid of it's size, battery backup and display aspects but it just surprised me now that nowadays you can afford a good phone too in this much cost! Camera- avg but still gives you a feel to capture some micro shotsBattery- I just charge it 100% in the morning and ít backup let me use it the entire day. It consumes 70% in a day even after a heavy use.Processor- I almost used more than half of it's RAM ßtill it run...READ MORE \n",
      "\n",
      "At this price range i think it's a best deal, brightness is good enough for outdoor usage, design is also nice, camera is decent but the portrait shots are good for this price range, it last for a day in 1 charge.No type c charging is given, so it take a lot of time to charge that's the only issue i facedREAD MORE \n",
      "\n",
      "I am using C31 from last 22 days. it's a good deal. I gifted for my mother. over all performance is good going. Just one minus point is company is not given fast charging feature. Otherwise device is awesome👍👏Fast delivery📮 on time delivery.READ MORE \n",
      "\n",
      "This is 2nd buy of poco brand, it is easy to operate, good for an average user, cost wise also looks better than other brands.READ MORE \n",
      "\n"
     ]
    }
   ],
   "source": [
    "reviews=soup.find_all(\"div\",{'class':\"t-ZTKy\"})\n",
    "for review in reviews:\n",
    "    print(review.get_text(),'\\n')"
   ]
  },
  {
   "cell_type": "code",
   "execution_count": null,
   "id": "d4b0d948",
   "metadata": {},
   "outputs": [],
   "source": []
  }
 ],
 "metadata": {
  "kernelspec": {
   "display_name": "Python 3 (ipykernel)",
   "language": "python",
   "name": "python3"
  },
  "language_info": {
   "codemirror_mode": {
    "name": "ipython",
    "version": 3
   },
   "file_extension": ".py",
   "mimetype": "text/x-python",
   "name": "python",
   "nbconvert_exporter": "python",
   "pygments_lexer": "ipython3",
   "version": "3.10.9"
  }
 },
 "nbformat": 4,
 "nbformat_minor": 5
}
